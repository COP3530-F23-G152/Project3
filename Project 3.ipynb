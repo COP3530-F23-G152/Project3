{
 "cells": [
  {
   "cell_type": "code",
   "execution_count": 1,
   "id": "b38d9f17",
   "metadata": {},
   "outputs": [
    {
     "name": "stdout",
     "output_type": "stream",
     "text": [
      "pygame 2.5.2 (SDL 2.28.3, Python 3.9.13)\n",
      "Hello from the pygame community. https://www.pygame.org/contribute.html\n"
     ]
    },
    {
     "name": "stderr",
     "output_type": "stream",
     "text": [
      "C:\\Users\\thebu\\anaconda3\\lib\\site-packages\\paramiko\\transport.py:219: CryptographyDeprecationWarning: Blowfish has been deprecated\n",
      "  \"class\": algorithms.Blowfish,\n"
     ]
    }
   ],
   "source": [
    "import pandas as pd\n",
    "import numpy as np\n",
    "from collections import defaultdict\n",
    "import networkx as nx\n",
    "import matplotlib.pyplot as plt\n",
    "import geopandas as gpd\n",
    "import time\n",
    "import geopandas\n",
    "import geodatasets\n",
    "import gdal\n",
    "import pygame\n",
    "from shapely.geometry import MultiPolygon, Polygon, Point"
   ]
  },
  {
   "cell_type": "code",
   "execution_count": 2,
   "id": "656cb208",
   "metadata": {},
   "outputs": [],
   "source": [
    "gdf = gpd.read_file('taxi_zones.shp')"
   ]
  },
  {
   "cell_type": "code",
   "execution_count": 10,
   "id": "2a2e338c",
   "metadata": {},
   "outputs": [],
   "source": [
    "yellow_taxi_df =pd.read_parquet('yellow_tripdata_2023-01.parquet', engine='fastparquet')\n",
    "zone_lookup_df = pd.read_csv(\"taxi+_zone_lookup.csv\")"
   ]
  },
  {
   "cell_type": "code",
   "execution_count": 11,
   "id": "8a20f417",
   "metadata": {},
   "outputs": [],
   "source": [
    "class Graph:\n",
    "    def __init__(self):\n",
    "        self.adjacency_list = {}\n",
    "\n",
    "    def add_vertex(self, vertex):\n",
    "        if vertex not in self.adjacency_list:\n",
    "            self.adjacency_list[vertex] = {'name': vertex, 'incoming_edges': 0}\n",
    "\n",
    "    def add_edge(self, source, target, weight=1):\n",
    "        if source in self.adjacency_list and target in self.adjacency_list:\n",
    "            if target in self.adjacency_list[source]:\n",
    "                # Edge already exists, increase the weight\n",
    "                self.adjacency_list[source][target] += weight\n",
    "            else:\n",
    "                # Edge doesn't exist, add a new edge\n",
    "                self.adjacency_list[source][target] = weight\n",
    "                self.adjacency_list[target]['incoming_edges'] += 1\n",
    "\n",
    "    def display_adjacency_list(self):\n",
    "        adjacency_list_df = pd.DataFrame(columns=['Zone','weight'])\n",
    "        for vertex, data in self.adjacency_list.items():\n",
    "            for neighbor, weight in self.adjacency_list[vertex].items():\n",
    "                if neighbor != 'name' and neighbor != 'incoming_edges':\n",
    "                    neighbor_name = self.adjacency_list[neighbor]['name']\n",
    "                    print(f\"{neighbor_name}, {weight} times\")\n",
    "            print(f\"{data['name']} has {data['incoming_edges']} incoming rides.\")\n",
    "            print()\n",
    "            \n",
    "    def display_adjacency_list_for_vertex(self, vertex_name):\n",
    "        if vertex_name in self.adjacency_list:\n",
    "            data = self.adjacency_list[vertex_name]\n",
    "            adjacency_list_df = pd.DataFrame(columns=['Zone','Weight'])\n",
    "            for neighbor, weight in data.items():\n",
    "                if (neighbor != 'name' and neighbor != 'incoming_edges'):\n",
    "                    if ((self.adjacency_list[neighbor]['name'] != 264) and (self.adjacency_list[neighbor]['name'] != 265)):\n",
    "                        neighbor_name = self.adjacency_list[neighbor]['name']\n",
    "                        adjacency_list_df.loc[len(adjacency_list_df.index)] = [self.adjacency_list[neighbor]['name'], weight]\n",
    "            adjacency_list_df = adjacency_list_df.sort_values(by='Weight', ascending = False)\n",
    "            return(adjacency_list_df)\n",
    "        else:\n",
    "            print(f\"Vertex with name {vertex_name} not found in the graph.\")\n",
    "            return(adjacency_list_df)"
   ]
  },
  {
   "cell_type": "code",
   "execution_count": 12,
   "id": "d46d42e5",
   "metadata": {},
   "outputs": [
    {
     "name": "stdout",
     "output_type": "stream",
     "text": [
      "Time to Create Graph: 32.43234992027283\n"
     ]
    }
   ],
   "source": [
    "my_graph = Graph()\n",
    "# get the current time in seconds\n",
    "start = time.time()\n",
    "\n",
    "for i in zone_lookup_df['LocationID']:\n",
    "    my_graph.add_vertex(i)\n",
    "\n",
    "for i in range(len(yellow_taxi_df)):\n",
    "    my_graph.add_edge(yellow_taxi_df['DOLocationID'][i], yellow_taxi_df['PULocationID'][i], 1)\n",
    "\n",
    "end = time.time()\n",
    "print(\"Time to Create Graph:\", end-start)"
   ]
  },
  {
   "cell_type": "code",
   "execution_count": 13,
   "id": "d315c608",
   "metadata": {},
   "outputs": [
    {
     "name": "stdout",
     "output_type": "stream",
     "text": [
      "160\n",
      "79\n",
      "132\n",
      "190\n",
      "43\n",
      "31\n",
      "171\n",
      "67\n",
      "221\n",
      "118\n",
      "109\n",
      "226\n",
      "137\n",
      "43\n",
      "246\n",
      "99\n",
      "214\n",
      "238\n",
      "42\n"
     ]
    }
   ],
   "source": [
    "def scale_and_shift_geometry(geometry, scale_factor, shift_x, shift_y):\n",
    "    if geometry.geom_type == 'Polygon':\n",
    "        return scale_and_shift_polygon(geometry, scale_factor, shift_x, shift_y)\n",
    "    elif geometry.geom_type == 'MultiPolygon':\n",
    "        polygons = [scale_and_shift_polygon(p, scale_factor, shift_x, shift_y) for p in geometry.geoms]\n",
    "        return MultiPolygon(polygons)\n",
    "    else:\n",
    "        raise ValueError(\"Unsupported geometry type\")\n",
    "\n",
    "def scale_and_shift_polygon(polygon, scale_factor, shift_x, shift_y):\n",
    "    # Extract coordinates from the polygon\n",
    "    coords = list(polygon.exterior.coords)\n",
    "\n",
    "    # Scale and shift the coordinates, and flip the y-coordinates\n",
    "    scaled_and_shifted_coords = [\n",
    "        (int((x * scale_factor) + shift_x), int((900 - (y) * scale_factor) + shift_y))\n",
    "        for x, y in coords\n",
    "    ]\n",
    "\n",
    "    # Return the scaled and shifted polygon\n",
    "    return Polygon(scaled_and_shifted_coords)\n",
    "\n",
    "def draw_scaled_and_shifted_geometry(screen, geometry, color):\n",
    "    if geometry.geom_type == 'Polygon':\n",
    "        draw_scaled_and_shifted_polygon(screen, geometry, color)\n",
    "    elif geometry.geom_type == 'MultiPolygon':\n",
    "        for polygon in geometry.geoms:\n",
    "            draw_scaled_and_shifted_polygon(screen, polygon, color)\n",
    "            \n",
    "\n",
    "def draw_scaled_and_shifted_polygon(screen, polygon, color):\n",
    "    exterior_coords = [(int(x), int(y)) for x, y in polygon.exterior.coords]\n",
    "    pygame.draw.polygon(screen, color, exterior_coords)\n",
    "    pygame.draw.polygon(screen, (0, 0, 0), exterior_coords, 1)\n",
    "\n",
    "# Create a pygame window\n",
    "pygame.init()\n",
    "screen = pygame.display.set_mode((1200, 1000))\n",
    "pygame.display.set_caption(\"Scaled and Shifted Shapefile Visualization\")\n",
    "\n",
    "# Define the scale factor and shift values (adjust as needed)\n",
    "scale_factor = 0.004\n",
    "shift_x = -800000 * scale_factor\n",
    "shift_y = 550\n",
    "# Clear the screen\n",
    "screen.fill((0, 0, 0))\n",
    "\n",
    "# Draw all geometries in the GeoDataFrame\n",
    "def drawpolygons(color):\n",
    "    for geometry in gdf['geometry']:\n",
    "        scaled_and_shifted_geometry = scale_and_shift_geometry(geometry, scale_factor, shift_x, shift_y)\n",
    "        draw_scaled_and_shifted_geometry(screen, scaled_and_shifted_geometry, color)\n",
    "\n",
    "base_color = (0,185,140)                        \n",
    "drawpolygons(base_color)          \n",
    "                                         \n",
    "# Main game loop\n",
    "running = True\n",
    "while running:\n",
    "    for event in pygame.event.get():\n",
    "        if event.type == pygame.QUIT:\n",
    "            running = False\n",
    "        if event.type == pygame.MOUSEBUTTONUP:\n",
    "            screen.fill((0, 0, 0))\n",
    "            drawpolygons(base_color) \n",
    "            i = 0\n",
    "            for geometry in gdf['geometry']:\n",
    "                i += 1\n",
    "                scaled_and_shifted_polygon = scale_and_shift_geometry(geometry, scale_factor, shift_x, shift_y)\n",
    "                if (scaled_and_shifted_polygon.contains(Point(pygame.mouse.get_pos()))):\n",
    "                    print(i)\n",
    "                    adjacency_df = my_graph.display_adjacency_list_for_vertex(i)\n",
    "                    for j in range(len(adjacency_df)):\n",
    "                        poly = gdf['geometry'].iloc[adjacency_df['Zone'].iloc[j]-1]\n",
    "                        scaled_and_shifted_polygon = scale_and_shift_geometry(poly, scale_factor, shift_x, shift_y)\n",
    "                        adjacent_color = (int((255/adjacency_df['Weight'].max())*adjacency_df['Weight'].iloc[j]),0,100) \n",
    "                        draw_scaled_and_shifted_geometry(screen, scaled_and_shifted_polygon, adjacent_color)\n",
    "                    clicked_color = (255,255,255) \n",
    "                    scaled_and_shifted_polygon = scale_and_shift_geometry(geometry, scale_factor, shift_x, shift_y)\n",
    "                    draw_scaled_and_shifted_geometry(screen, scaled_and_shifted_polygon, clicked_color)\n",
    "                        \n",
    "\n",
    "    # Update the display\n",
    "    pygame.display.flip()\n",
    "\n",
    "# Quit pygame\n",
    "pygame.quit()\n"
   ]
  },
  {
   "cell_type": "code",
   "execution_count": 24,
   "id": "407865c9",
   "metadata": {},
   "outputs": [
    {
     "name": "stdout",
     "output_type": "stream",
     "text": [
      "Time to Create Graph: 1.3917813301086426\n",
      "    Zone  Weight\n",
      "1    132     138\n",
      "0    138      53\n",
      "34    70       7\n",
      "9     95       7\n",
      "7    141       4\n",
      "263\n",
      "68\n"
     ]
    }
   ],
   "source": [
    "my_graph = Graph()\n",
    "# get the current time in seconds\n",
    "start = time.time()\n",
    "\n",
    "for i in zone_lookup_df['LocationID']:\n",
    "    my_graph.add_vertex(i)\n",
    "\n",
    "for i in range(len(yellow_taxi_df)):\n",
    "    my_graph.add_edge(yellow_taxi_df['DOLocationID'][i], yellow_taxi_df['PULocationID'][i], 1)\n",
    "\n",
    "end = time.time()\n",
    "print(\"Time to Create Graph:\", end-start)\n",
    "\n",
    "df = my_graph.display_adjacency_list_for_vertex(95)\n",
    "\n",
    "print(df.head())\n",
    "print(len(gdf))\n",
    "print(df['Zone'].iloc[2]-2)\n",
    "poly = gdf['geometry'].iloc[df['Zone'].iloc[2]-2]"
   ]
  },
  {
   "cell_type": "code",
   "execution_count": null,
   "id": "72e07800",
   "metadata": {},
   "outputs": [],
   "source": []
  }
 ],
 "metadata": {
  "kernelspec": {
   "display_name": "Python 3 (ipykernel)",
   "language": "python",
   "name": "python3"
  },
  "language_info": {
   "codemirror_mode": {
    "name": "ipython",
    "version": 3
   },
   "file_extension": ".py",
   "mimetype": "text/x-python",
   "name": "python",
   "nbconvert_exporter": "python",
   "pygments_lexer": "ipython3",
   "version": "3.9.13"
  }
 },
 "nbformat": 4,
 "nbformat_minor": 5
}
